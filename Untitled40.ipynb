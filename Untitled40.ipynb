{
  "nbformat": 4,
  "nbformat_minor": 0,
  "metadata": {
    "colab": {
      "provenance": []
    },
    "kernelspec": {
      "name": "python3",
      "display_name": "Python 3"
    },
    "language_info": {
      "name": "python"
    }
  },
  "cells": [
    {
      "cell_type": "code",
      "execution_count": null,
      "metadata": {
        "id": "VujDay5SNqV7"
      },
      "outputs": [],
      "source": [
        "import pandas as pd\n",
        "from sklearn.model_selection import train_test_split, GridSearchCV\n",
        "from sklearn.preprocessing import OneHotEncoder, StandardScaler\n",
        "from sklearn.compose import ColumnTransformer\n",
        "from sklearn.pipeline import Pipeline\n",
        "from sklearn.linear_model import LogisticRegression\n",
        "from sklearn.metrics import confusion_matrix, classification_report\n",
        "import seaborn as sns\n",
        "import matplotlib.pyplot as plt"
      ]
    },
    {
      "cell_type": "code",
      "source": [
        "def convert_to_float(value):\n",
        "    try:\n",
        "        # Заменить запятые на точки и пробелы на пустую строку, затем преобразовать в float\n",
        "        return float(str(value).replace(',', '.').replace(' ', ''))\n",
        "    except ValueError:\n",
        "        return None"
      ],
      "metadata": {
        "id": "OMdGtgjwTIFq"
      },
      "execution_count": null,
      "outputs": []
    },
    {
      "cell_type": "code",
      "source": [
        "file_path = \"/content/data.xlsx\"\n",
        "\n",
        "df = pd.read_excel(file_path, sheet_name=\"Sheet1\")\n",
        "\n"
      ],
      "metadata": {
        "id": "ijhMofgXPGNR"
      },
      "execution_count": null,
      "outputs": []
    },
    {
      "cell_type": "code",
      "source": [
        "df_clean = df.dropna(subset=['IRR (%)'])\n",
        "\n",
        "numerical_columns = ['Майдони', 'Лойиҳа умумий қиймати \\n(млн доллар)', 'Лoйиҳани қоплаш муддати \\n', 'NPV (млн долл)', 'Иш ўрни']\n",
        "for col in numerical_columns:\n",
        "    df_clean[col] = df_clean[col].apply(convert_to_float)\n",
        "\n",
        "df_clean = df_clean.dropna()"
      ],
      "metadata": {
        "id": "T3jcbRI4TNjr"
      },
      "execution_count": null,
      "outputs": []
    },
    {
      "cell_type": "code",
      "source": [
        "mean_irr = df_clean['IRR (%)'].mean()\n",
        "df_clean['Successful_mean'] = df_clean['IRR (%)'] > mean_irr"
      ],
      "metadata": {
        "id": "BwlxczMTTNzO"
      },
      "execution_count": null,
      "outputs": []
    },
    {
      "cell_type": "code",
      "source": [
        "X = df_clean[['Майдони', 'Соҳа (саноат,қишлоқ хўжалиги, хизмат кўрсатиш)', 'Лойиҳа умумий қиймати \\n(млн доллар)', 'Иш ўрни', 'NPV (млн долл)', 'Лoйиҳани қоплаш муддати \\n']]\n",
        "y = df_clean['Successful_mean']\n",
        "\n",
        "categorical_features = ['Соҳа (саноат,қишлоқ хўжалиги, хизмат кўрсатиш)']\n",
        "numerical_features = ['Майдони', 'Лойиҳа умумий қиймати \\n(млн доллар)', 'Иш ўрни', 'NPV (млн долл)', 'Лoйиҳани қоплаш муддати \\n']\n",
        "\n",
        "categorical_transformer = Pipeline(steps=[('onehot', OneHotEncoder(handle_unknown='ignore'))])\n",
        "numerical_transformer = Pipeline(steps=[('scaler', StandardScaler())])\n"
      ],
      "metadata": {
        "id": "8I9ByExhTPxi"
      },
      "execution_count": null,
      "outputs": []
    },
    {
      "cell_type": "code",
      "source": [
        "preprocessor = ColumnTransformer(\n",
        "    transformers=[\n",
        "        ('num', numerical_transformer, numerical_features),\n",
        "        ('cat', categorical_transformer, categorical_features)\n",
        "    ]\n",
        ")\n"
      ],
      "metadata": {
        "id": "rmU-wg2oTRo9"
      },
      "execution_count": null,
      "outputs": []
    },
    {
      "cell_type": "code",
      "source": [
        "X_train, X_test, y_train, y_test = train_test_split(X, y, test_size=0.2, random_state=42)\n"
      ],
      "metadata": {
        "id": "3f1sDqTSTTo6"
      },
      "execution_count": null,
      "outputs": []
    },
    {
      "cell_type": "code",
      "source": [
        "model = Pipeline(steps=[\n",
        "    ('preprocessor', preprocessor),\n",
        "    ('classifier', LogisticRegression(random_state=42))\n",
        "])"
      ],
      "metadata": {
        "id": "NezgCHo0TU-M"
      },
      "execution_count": null,
      "outputs": []
    },
    {
      "cell_type": "code",
      "source": [
        "param_grid = {\n",
        "    'classifier__C': [0.01, 0.1, 1, 10, 100],  # Регуляризационный параметр\n",
        "    'classifier__solver': ['lbfgs', 'liblinear']  # Выбор оптимизатора\n",
        "}"
      ],
      "metadata": {
        "id": "nBfhK7PPufI_"
      },
      "execution_count": null,
      "outputs": []
    },
    {
      "cell_type": "code",
      "source": [
        "grid_search = GridSearchCV(model, param_grid, cv=5, scoring='accuracy')\n",
        "grid_search.fit(X_train, y_train)"
      ],
      "metadata": {
        "colab": {
          "base_uri": "https://localhost:8080/",
          "height": 214
        },
        "id": "n4LjMDEfufSt",
        "outputId": "682f3b19-574a-467c-972d-e777e9efd905"
      },
      "execution_count": null,
      "outputs": [
        {
          "output_type": "execute_result",
          "data": {
            "text/plain": [
              "GridSearchCV(cv=5,\n",
              "             estimator=Pipeline(steps=[('preprocessor',\n",
              "                                        ColumnTransformer(transformers=[('num',\n",
              "                                                                         Pipeline(steps=[('scaler',\n",
              "                                                                                          StandardScaler())]),\n",
              "                                                                         ['Майдони',\n",
              "                                                                          'Лойиҳа '\n",
              "                                                                          'умумий '\n",
              "                                                                          'қиймати \\n'\n",
              "                                                                          '(млн '\n",
              "                                                                          'доллар)',\n",
              "                                                                          'Иш '\n",
              "                                                                          'ўрни',\n",
              "                                                                          'NPV '\n",
              "                                                                          '(млн '\n",
              "                                                                          'долл)',\n",
              "                                                                          'Лoйиҳани '\n",
              "                                                                          'қоплаш '\n",
              "                                                                          'муддати \\n']),\n",
              "                                                                        ('cat',\n",
              "                                                                         Pipeline(steps=[('onehot',\n",
              "                                                                                          OneHotEncoder(handle_unknown='ignore'))]),\n",
              "                                                                         ['Соҳа '\n",
              "                                                                          '(саноат,қишлоқ '\n",
              "                                                                          'хўжалиги, '\n",
              "                                                                          'хизмат '\n",
              "                                                                          'кўрсатиш)'])])),\n",
              "                                       ('classifier',\n",
              "                                        LogisticRegression(random_state=42))]),\n",
              "             param_grid={'classifier__C': [0.01, 0.1, 1, 10, 100],\n",
              "                         'classifier__solver': ['lbfgs', 'liblinear']},\n",
              "             scoring='accuracy')"
            ],
            "text/html": [
              "<style>#sk-container-id-2 {color: black;background-color: white;}#sk-container-id-2 pre{padding: 0;}#sk-container-id-2 div.sk-toggleable {background-color: white;}#sk-container-id-2 label.sk-toggleable__label {cursor: pointer;display: block;width: 100%;margin-bottom: 0;padding: 0.3em;box-sizing: border-box;text-align: center;}#sk-container-id-2 label.sk-toggleable__label-arrow:before {content: \"▸\";float: left;margin-right: 0.25em;color: #696969;}#sk-container-id-2 label.sk-toggleable__label-arrow:hover:before {color: black;}#sk-container-id-2 div.sk-estimator:hover label.sk-toggleable__label-arrow:before {color: black;}#sk-container-id-2 div.sk-toggleable__content {max-height: 0;max-width: 0;overflow: hidden;text-align: left;background-color: #f0f8ff;}#sk-container-id-2 div.sk-toggleable__content pre {margin: 0.2em;color: black;border-radius: 0.25em;background-color: #f0f8ff;}#sk-container-id-2 input.sk-toggleable__control:checked~div.sk-toggleable__content {max-height: 200px;max-width: 100%;overflow: auto;}#sk-container-id-2 input.sk-toggleable__control:checked~label.sk-toggleable__label-arrow:before {content: \"▾\";}#sk-container-id-2 div.sk-estimator input.sk-toggleable__control:checked~label.sk-toggleable__label {background-color: #d4ebff;}#sk-container-id-2 div.sk-label input.sk-toggleable__control:checked~label.sk-toggleable__label {background-color: #d4ebff;}#sk-container-id-2 input.sk-hidden--visually {border: 0;clip: rect(1px 1px 1px 1px);clip: rect(1px, 1px, 1px, 1px);height: 1px;margin: -1px;overflow: hidden;padding: 0;position: absolute;width: 1px;}#sk-container-id-2 div.sk-estimator {font-family: monospace;background-color: #f0f8ff;border: 1px dotted black;border-radius: 0.25em;box-sizing: border-box;margin-bottom: 0.5em;}#sk-container-id-2 div.sk-estimator:hover {background-color: #d4ebff;}#sk-container-id-2 div.sk-parallel-item::after {content: \"\";width: 100%;border-bottom: 1px solid gray;flex-grow: 1;}#sk-container-id-2 div.sk-label:hover label.sk-toggleable__label {background-color: #d4ebff;}#sk-container-id-2 div.sk-serial::before {content: \"\";position: absolute;border-left: 1px solid gray;box-sizing: border-box;top: 0;bottom: 0;left: 50%;z-index: 0;}#sk-container-id-2 div.sk-serial {display: flex;flex-direction: column;align-items: center;background-color: white;padding-right: 0.2em;padding-left: 0.2em;position: relative;}#sk-container-id-2 div.sk-item {position: relative;z-index: 1;}#sk-container-id-2 div.sk-parallel {display: flex;align-items: stretch;justify-content: center;background-color: white;position: relative;}#sk-container-id-2 div.sk-item::before, #sk-container-id-2 div.sk-parallel-item::before {content: \"\";position: absolute;border-left: 1px solid gray;box-sizing: border-box;top: 0;bottom: 0;left: 50%;z-index: -1;}#sk-container-id-2 div.sk-parallel-item {display: flex;flex-direction: column;z-index: 1;position: relative;background-color: white;}#sk-container-id-2 div.sk-parallel-item:first-child::after {align-self: flex-end;width: 50%;}#sk-container-id-2 div.sk-parallel-item:last-child::after {align-self: flex-start;width: 50%;}#sk-container-id-2 div.sk-parallel-item:only-child::after {width: 0;}#sk-container-id-2 div.sk-dashed-wrapped {border: 1px dashed gray;margin: 0 0.4em 0.5em 0.4em;box-sizing: border-box;padding-bottom: 0.4em;background-color: white;}#sk-container-id-2 div.sk-label label {font-family: monospace;font-weight: bold;display: inline-block;line-height: 1.2em;}#sk-container-id-2 div.sk-label-container {text-align: center;}#sk-container-id-2 div.sk-container {/* jupyter's `normalize.less` sets `[hidden] { display: none; }` but bootstrap.min.css set `[hidden] { display: none !important; }` so we also need the `!important` here to be able to override the default hidden behavior on the sphinx rendered scikit-learn.org. See: https://github.com/scikit-learn/scikit-learn/issues/21755 */display: inline-block !important;position: relative;}#sk-container-id-2 div.sk-text-repr-fallback {display: none;}</style><div id=\"sk-container-id-2\" class=\"sk-top-container\"><div class=\"sk-text-repr-fallback\"><pre>GridSearchCV(cv=5,\n",
              "             estimator=Pipeline(steps=[(&#x27;preprocessor&#x27;,\n",
              "                                        ColumnTransformer(transformers=[(&#x27;num&#x27;,\n",
              "                                                                         Pipeline(steps=[(&#x27;scaler&#x27;,\n",
              "                                                                                          StandardScaler())]),\n",
              "                                                                         [&#x27;Майдони&#x27;,\n",
              "                                                                          &#x27;Лойиҳа &#x27;\n",
              "                                                                          &#x27;умумий &#x27;\n",
              "                                                                          &#x27;қиймати \\n&#x27;\n",
              "                                                                          &#x27;(млн &#x27;\n",
              "                                                                          &#x27;доллар)&#x27;,\n",
              "                                                                          &#x27;Иш &#x27;\n",
              "                                                                          &#x27;ўрни&#x27;,\n",
              "                                                                          &#x27;NPV &#x27;\n",
              "                                                                          &#x27;(млн &#x27;\n",
              "                                                                          &#x27;долл)&#x27;,\n",
              "                                                                          &#x27;Лoйиҳани &#x27;\n",
              "                                                                          &#x27;қоплаш &#x27;\n",
              "                                                                          &#x27;муддати \\n&#x27;]),\n",
              "                                                                        (&#x27;cat&#x27;,\n",
              "                                                                         Pipeline(steps=[(&#x27;onehot&#x27;,\n",
              "                                                                                          OneHotEncoder(handle_unknown=&#x27;ignore&#x27;))]),\n",
              "                                                                         [&#x27;Соҳа &#x27;\n",
              "                                                                          &#x27;(саноат,қишлоқ &#x27;\n",
              "                                                                          &#x27;хўжалиги, &#x27;\n",
              "                                                                          &#x27;хизмат &#x27;\n",
              "                                                                          &#x27;кўрсатиш)&#x27;])])),\n",
              "                                       (&#x27;classifier&#x27;,\n",
              "                                        LogisticRegression(random_state=42))]),\n",
              "             param_grid={&#x27;classifier__C&#x27;: [0.01, 0.1, 1, 10, 100],\n",
              "                         &#x27;classifier__solver&#x27;: [&#x27;lbfgs&#x27;, &#x27;liblinear&#x27;]},\n",
              "             scoring=&#x27;accuracy&#x27;)</pre><b>In a Jupyter environment, please rerun this cell to show the HTML representation or trust the notebook. <br />On GitHub, the HTML representation is unable to render, please try loading this page with nbviewer.org.</b></div><div class=\"sk-container\" hidden><div class=\"sk-item sk-dashed-wrapped\"><div class=\"sk-label-container\"><div class=\"sk-label sk-toggleable\"><input class=\"sk-toggleable__control sk-hidden--visually\" id=\"sk-estimator-id-8\" type=\"checkbox\" ><label for=\"sk-estimator-id-8\" class=\"sk-toggleable__label sk-toggleable__label-arrow\">GridSearchCV</label><div class=\"sk-toggleable__content\"><pre>GridSearchCV(cv=5,\n",
              "             estimator=Pipeline(steps=[(&#x27;preprocessor&#x27;,\n",
              "                                        ColumnTransformer(transformers=[(&#x27;num&#x27;,\n",
              "                                                                         Pipeline(steps=[(&#x27;scaler&#x27;,\n",
              "                                                                                          StandardScaler())]),\n",
              "                                                                         [&#x27;Майдони&#x27;,\n",
              "                                                                          &#x27;Лойиҳа &#x27;\n",
              "                                                                          &#x27;умумий &#x27;\n",
              "                                                                          &#x27;қиймати \\n&#x27;\n",
              "                                                                          &#x27;(млн &#x27;\n",
              "                                                                          &#x27;доллар)&#x27;,\n",
              "                                                                          &#x27;Иш &#x27;\n",
              "                                                                          &#x27;ўрни&#x27;,\n",
              "                                                                          &#x27;NPV &#x27;\n",
              "                                                                          &#x27;(млн &#x27;\n",
              "                                                                          &#x27;долл)&#x27;,\n",
              "                                                                          &#x27;Лoйиҳани &#x27;\n",
              "                                                                          &#x27;қоплаш &#x27;\n",
              "                                                                          &#x27;муддати \\n&#x27;]),\n",
              "                                                                        (&#x27;cat&#x27;,\n",
              "                                                                         Pipeline(steps=[(&#x27;onehot&#x27;,\n",
              "                                                                                          OneHotEncoder(handle_unknown=&#x27;ignore&#x27;))]),\n",
              "                                                                         [&#x27;Соҳа &#x27;\n",
              "                                                                          &#x27;(саноат,қишлоқ &#x27;\n",
              "                                                                          &#x27;хўжалиги, &#x27;\n",
              "                                                                          &#x27;хизмат &#x27;\n",
              "                                                                          &#x27;кўрсатиш)&#x27;])])),\n",
              "                                       (&#x27;classifier&#x27;,\n",
              "                                        LogisticRegression(random_state=42))]),\n",
              "             param_grid={&#x27;classifier__C&#x27;: [0.01, 0.1, 1, 10, 100],\n",
              "                         &#x27;classifier__solver&#x27;: [&#x27;lbfgs&#x27;, &#x27;liblinear&#x27;]},\n",
              "             scoring=&#x27;accuracy&#x27;)</pre></div></div></div><div class=\"sk-parallel\"><div class=\"sk-parallel-item\"><div class=\"sk-item\"><div class=\"sk-label-container\"><div class=\"sk-label sk-toggleable\"><input class=\"sk-toggleable__control sk-hidden--visually\" id=\"sk-estimator-id-9\" type=\"checkbox\" ><label for=\"sk-estimator-id-9\" class=\"sk-toggleable__label sk-toggleable__label-arrow\">estimator: Pipeline</label><div class=\"sk-toggleable__content\"><pre>Pipeline(steps=[(&#x27;preprocessor&#x27;,\n",
              "                 ColumnTransformer(transformers=[(&#x27;num&#x27;,\n",
              "                                                  Pipeline(steps=[(&#x27;scaler&#x27;,\n",
              "                                                                   StandardScaler())]),\n",
              "                                                  [&#x27;Майдони&#x27;,\n",
              "                                                   &#x27;Лойиҳа умумий қиймати \\n&#x27;\n",
              "                                                   &#x27;(млн доллар)&#x27;,\n",
              "                                                   &#x27;Иш ўрни&#x27;, &#x27;NPV (млн долл)&#x27;,\n",
              "                                                   &#x27;Лoйиҳани қоплаш &#x27;\n",
              "                                                   &#x27;муддати \\n&#x27;]),\n",
              "                                                 (&#x27;cat&#x27;,\n",
              "                                                  Pipeline(steps=[(&#x27;onehot&#x27;,\n",
              "                                                                   OneHotEncoder(handle_unknown=&#x27;ignore&#x27;))]),\n",
              "                                                  [&#x27;Соҳа (саноат,қишлоқ &#x27;\n",
              "                                                   &#x27;хўжалиги, хизмат &#x27;\n",
              "                                                   &#x27;кўрсатиш)&#x27;])])),\n",
              "                (&#x27;classifier&#x27;, LogisticRegression(random_state=42))])</pre></div></div></div><div class=\"sk-serial\"><div class=\"sk-item\"><div class=\"sk-serial\"><div class=\"sk-item sk-dashed-wrapped\"><div class=\"sk-label-container\"><div class=\"sk-label sk-toggleable\"><input class=\"sk-toggleable__control sk-hidden--visually\" id=\"sk-estimator-id-10\" type=\"checkbox\" ><label for=\"sk-estimator-id-10\" class=\"sk-toggleable__label sk-toggleable__label-arrow\">preprocessor: ColumnTransformer</label><div class=\"sk-toggleable__content\"><pre>ColumnTransformer(transformers=[(&#x27;num&#x27;,\n",
              "                                 Pipeline(steps=[(&#x27;scaler&#x27;, StandardScaler())]),\n",
              "                                 [&#x27;Майдони&#x27;,\n",
              "                                  &#x27;Лойиҳа умумий қиймати \\n(млн доллар)&#x27;,\n",
              "                                  &#x27;Иш ўрни&#x27;, &#x27;NPV (млн долл)&#x27;,\n",
              "                                  &#x27;Лoйиҳани қоплаш муддати \\n&#x27;]),\n",
              "                                (&#x27;cat&#x27;,\n",
              "                                 Pipeline(steps=[(&#x27;onehot&#x27;,\n",
              "                                                  OneHotEncoder(handle_unknown=&#x27;ignore&#x27;))]),\n",
              "                                 [&#x27;Соҳа (саноат,қишлоқ хўжалиги, хизмат &#x27;\n",
              "                                  &#x27;кўрсатиш)&#x27;])])</pre></div></div></div><div class=\"sk-parallel\"><div class=\"sk-parallel-item\"><div class=\"sk-item\"><div class=\"sk-label-container\"><div class=\"sk-label sk-toggleable\"><input class=\"sk-toggleable__control sk-hidden--visually\" id=\"sk-estimator-id-11\" type=\"checkbox\" ><label for=\"sk-estimator-id-11\" class=\"sk-toggleable__label sk-toggleable__label-arrow\">num</label><div class=\"sk-toggleable__content\"><pre>[&#x27;Майдони&#x27;, &#x27;Лойиҳа умумий қиймати \\n(млн доллар)&#x27;, &#x27;Иш ўрни&#x27;, &#x27;NPV (млн долл)&#x27;, &#x27;Лoйиҳани қоплаш муддати \\n&#x27;]</pre></div></div></div><div class=\"sk-serial\"><div class=\"sk-item\"><div class=\"sk-serial\"><div class=\"sk-item\"><div class=\"sk-estimator sk-toggleable\"><input class=\"sk-toggleable__control sk-hidden--visually\" id=\"sk-estimator-id-12\" type=\"checkbox\" ><label for=\"sk-estimator-id-12\" class=\"sk-toggleable__label sk-toggleable__label-arrow\">StandardScaler</label><div class=\"sk-toggleable__content\"><pre>StandardScaler()</pre></div></div></div></div></div></div></div></div><div class=\"sk-parallel-item\"><div class=\"sk-item\"><div class=\"sk-label-container\"><div class=\"sk-label sk-toggleable\"><input class=\"sk-toggleable__control sk-hidden--visually\" id=\"sk-estimator-id-13\" type=\"checkbox\" ><label for=\"sk-estimator-id-13\" class=\"sk-toggleable__label sk-toggleable__label-arrow\">cat</label><div class=\"sk-toggleable__content\"><pre>[&#x27;Соҳа (саноат,қишлоқ хўжалиги, хизмат кўрсатиш)&#x27;]</pre></div></div></div><div class=\"sk-serial\"><div class=\"sk-item\"><div class=\"sk-serial\"><div class=\"sk-item\"><div class=\"sk-estimator sk-toggleable\"><input class=\"sk-toggleable__control sk-hidden--visually\" id=\"sk-estimator-id-14\" type=\"checkbox\" ><label for=\"sk-estimator-id-14\" class=\"sk-toggleable__label sk-toggleable__label-arrow\">OneHotEncoder</label><div class=\"sk-toggleable__content\"><pre>OneHotEncoder(handle_unknown=&#x27;ignore&#x27;)</pre></div></div></div></div></div></div></div></div></div></div><div class=\"sk-item\"><div class=\"sk-estimator sk-toggleable\"><input class=\"sk-toggleable__control sk-hidden--visually\" id=\"sk-estimator-id-15\" type=\"checkbox\" ><label for=\"sk-estimator-id-15\" class=\"sk-toggleable__label sk-toggleable__label-arrow\">LogisticRegression</label><div class=\"sk-toggleable__content\"><pre>LogisticRegression(random_state=42)</pre></div></div></div></div></div></div></div></div></div></div></div></div>"
            ]
          },
          "metadata": {},
          "execution_count": 41
        }
      ]
    },
    {
      "cell_type": "code",
      "source": [
        "best_model = grid_search.best_estimator_\n",
        "y_pred_best = best_model.predict(X_test)\n"
      ],
      "metadata": {
        "id": "8edyjmUfugyl"
      },
      "execution_count": null,
      "outputs": []
    },
    {
      "cell_type": "code",
      "source": [
        "conf_matrix_best = confusion_matrix(y_test, y_pred_best)\n",
        "class_report_best = classification_report(y_test, y_pred_best)\n",
        "\n",
        "print('Improved Confusion Matrix:\\n', conf_matrix_best)\n",
        "print('\\nImproved Classification Report:\\n', class_report_best)"
      ],
      "metadata": {
        "colab": {
          "base_uri": "https://localhost:8080/"
        },
        "id": "n5iGUoFfuh3b",
        "outputId": "bc8ad3c9-107b-4876-adbe-cf74f78a57da"
      },
      "execution_count": null,
      "outputs": [
        {
          "output_type": "stream",
          "name": "stdout",
          "text": [
            "Improved Confusion Matrix:\n",
            " [[251  26]\n",
            " [ 96  31]]\n",
            "\n",
            "Improved Classification Report:\n",
            "               precision    recall  f1-score   support\n",
            "\n",
            "       False       0.72      0.91      0.80       277\n",
            "        True       0.54      0.24      0.34       127\n",
            "\n",
            "    accuracy                           0.70       404\n",
            "   macro avg       0.63      0.58      0.57       404\n",
            "weighted avg       0.67      0.70      0.66       404\n",
            "\n"
          ]
        }
      ]
    },
    {
      "cell_type": "code",
      "source": [
        "plt.figure(figsize=(8, 6))\n",
        "sns.heatmap(conf_matrix_best, annot=True, fmt='d', cmap='Blues', xticklabels=['Unsuccessful', 'Successful'], yticklabels=['Unsuccessful', 'Successful'])\n",
        "plt.ylabel('Actual')\n",
        "plt.xlabel('Predicted')\n",
        "plt.title('Improved Confusion Matrix')\n",
        "plt.show()"
      ],
      "metadata": {
        "colab": {
          "base_uri": "https://localhost:8080/",
          "height": 564
        },
        "id": "gUnPteKFujbM",
        "outputId": "5f81de9f-c610-4115-ebe5-f75c113ba299"
      },
      "execution_count": null,
      "outputs": [
        {
          "output_type": "display_data",
          "data": {
            "text/plain": [
              "<Figure size 800x600 with 2 Axes>"
            ],
            "image/png": "[encoded data removed]"
          },
          "metadata": {}
        }
      ]
    },
    {
      "cell_type": "code",
      "source": [
        "import pandas as pd\n",
        "import plotly.graph_objs as go\n",
        "\n",
        "# Load the Excel file (adjust your file path)\n",
        "file_path = '/content/data.xlsx'\n",
        "df = pd.read_excel(file_path, sheet_name='Sheet1')\n",
        "\n",
        "# Count the total number of projects per region\n",
        "project_counts = df['Ҳудуд номи'].value_counts()\n",
        "\n",
        "# Create a DataFrame for the geographic data\n",
        "regions_coords = {\n",
        "    \"Самарқанд вилояти\": (39.654, 66.974),\n",
        "    \"Тошкент вилояти\": (41.313, 69.277),\n",
        "    \"Бухоро вилояти\": (39.774, 64.428),\n",
        "    \"Қашқадарё вилояти\": (38.839, 66.179),\n",
        "    \"Сурхондарё вилояти\": (37.233, 67.278),\n",
        "    \"Фарғона вилояти\": (40.384, 71.786),\n",
        "    \"Наманган \": (41.000, 71.672),\n",
        "    \"Андижон вилояти\": (40.783, 72.352),\n",
        "    \"Навоий вилояти\": (40.101, 65.374),\n",
        "    \"Жиззах вилояти\": (40.117, 67.842),\n",
        "    \"Хоразм вилояти\": (41.556, 60.640),\n",
        "    \"Қорақалпоғистон Республикаси\": (42.485, 59.603)\n",
        "}\n",
        "\n",
        "# Convert coordinates and project counts to a DataFrame\n",
        "regions_data = pd.DataFrame.from_dict(regions_coords, orient='index', columns=['Latitude', 'Longitude'])\n",
        "regions_data['Projects'] = regions_data.index.map(project_counts).fillna(0)\n",
        "regions_data.reset_index(inplace=True)\n",
        "regions_data.rename(columns={'index': 'Region'}, inplace=True)\n",
        "\n",
        "# Assign a unique color to each region\n",
        "colors = [\n",
        "    'blue', 'red', 'green', 'purple', 'orange', 'cyan', 'brown',\n",
        "    'pink', 'gray', 'olive', 'navy', 'teal'\n",
        "]\n",
        "regions_data['Color'] = colors[:len(regions_data)]\n",
        "\n",
        "# Create a scatter map plot with only colored markers\n",
        "fig = go.Figure(go.Scattergeo(\n",
        "    lon=regions_data['Longitude'],\n",
        "    lat=regions_data['Latitude'],\n",
        "    mode='markers',\n",
        "    marker=dict(\n",
        "        size=10,\n",
        "        color=regions_data['Color'],\n",
        "        line=dict(width=1, color='black')\n",
        "    )\n",
        "))\n",
        "\n",
        "# Update the map layout\n",
        "fig.update_geos(\n",
        "    showcountries=True,\n",
        "    countrycolor='black',\n",
        "    showland=True,\n",
        "    landcolor='white'\n",
        ")\n",
        "\n",
        "# Add map title and adjust the layout\n",
        "fig.update_layout(\n",
        "    title='Regions of Uzbekistan',\n",
        "    geo=dict(\n",
        "        projection_scale=2.5,\n",
        "        showland=True,\n",
        "        landcolor=\"white\",\n",
        "        showocean=True,\n",
        "        oceancolor=\"lightblue\"\n",
        "    )\n",
        ")\n",
        "\n",
        "# Add a color-coded legend annotation outside the map\n",
        "legend_items = [\n",
        "    f\"<span style='color:{row['Color']}'>{row['Region']} = {int(row['Projects'])}</span>\"\n",
        "    for _, row in regions_data.iterrows()\n",
        "]\n",
        "legend_text = \"<br>\".join(legend_items)\n",
        "\n",
        "fig.add_annotation(\n",
        "    text=f\"<b>Legend:</b><br>{legend_text}\",\n",
        "    xref=\"paper\", yref=\"paper\",\n",
        "    x=1.05, y=0.95,\n",
        "    showarrow=False,\n",
        "    align='left',\n",
        "    bordercolor='black',\n",
        "    borderwidth=1,\n",
        "    bgcolor='white',\n",
        "    opacity=0.8\n",
        ")\n",
        "\n",
        "fig.show()\n"
      ],
      "metadata": {
        "colab": {
          "base_uri": "https://localhost:8080/",
          "height": 542
        },
        "id": "Ev2MUhVJuk4I",
        "outputId": "d0743039-aaf6-4a5f-be7f-5b5595460632"
      },
      "execution_count": null,
      "outputs": [
        {
          "output_type": "display_data",
          "data": {
            "text/html": [
              "<html>\n",
              "<head><meta charset=\"utf-8\" /></head>\n",
              "<body>\n",
              "    <div>            <script src=\"https://cdnjs.cloudflare.com/ajax/libs/mathjax/2.7.5/MathJax.js?config=TeX-AMS-MML_SVG\"></script><script type=\"text/javascript\">if (window.MathJax && window.MathJax.Hub && window.MathJax.Hub.Config) {window.MathJax.Hub.Config({SVG: {font: \"STIX-Web\"}});}</script>                <script type=\"text/javascript\">window.PlotlyConfig = {MathJaxConfig: 'local'};</script>\n",
              "        <script charset=\"utf-8\" src=\"https://cdn.plot.ly/plotly-2.24.1.min.js\"></script>                <div id=\"8f68cb80-89d0-4d73-931d-d871ef25cf3b\" class=\"plotly-graph-div\" style=\"height:525px; width:100%;\"></div>            <script type=\"text/javascript\">                                    window.PLOTLYENV=window.PLOTLYENV || {};                                    if (document.getElementById(\"8f68cb80-89d0-4d73-931d-d871ef25cf3b\")) {                    Plotly.newPlot(                        \"8f68cb80-89d0-4d73-931d-d871ef25cf3b\",                        [{\"lat\":[39.654,41.313,39.774,38.839,37.233,40.384,41.0,40.783,40.101,40.117,41.556,42.485],\"lon\":[66.974,69.277,64.428,66.179,67.278,71.786,71.672,72.352,65.374,67.842,60.64,59.603],\"marker\":{\"color\":[\"blue\",\"red\",\"green\",\"purple\",\"orange\",\"cyan\",\"brown\",\"pink\",\"gray\",\"olive\",\"navy\",\"teal\"],\"line\":{\"color\":\"black\",\"width\":1},\"size\":10},\"mode\":\"markers\",\"type\":\"scattergeo\"}],                        {\"template\":{\"data\":{\"histogram2dcontour\":[{\"type\":\"histogram2dcontour\",\"colorbar\":{\"outlinewidth\":0,\"ticks\":\"\"},\"colorscale\":[[0.0,\"#0d0887\"],[0.1111111111111111,\"#46039f\"],[0.2222222222222222,\"#7201a8\"],[0.3333333333333333,\"#9c179e\"],[0.4444444444444444,\"#bd3786\"],[0.5555555555555556,\"#d8576b\"],[0.6666666666666666,\"#ed7953\"],[0.7777777777777778,\"#fb9f3a\"],[0.8888888888888888,\"#fdca26\"],[1.0,\"#f0f921\"]]}],\"choropleth\":[{\"type\":\"choropleth\",\"colorbar\":{\"outlinewidth\":0,\"ticks\":\"\"}}],\"histogram2d\":[{\"type\":\"histogram2d\",\"colorbar\":{\"outlinewidth\":0,\"ticks\":\"\"},\"colorscale\":[[0.0,\"#0d0887\"],[0.1111111111111111,\"#46039f\"],[0.2222222222222222,\"#7201a8\"],[0.3333333333333333,\"#9c179e\"],[0.4444444444444444,\"#bd3786\"],[0.5555555555555556,\"#d8576b\"],[0.6666666666666666,\"#ed7953\"],[0.7777777777777778,\"#fb9f3a\"],[0.8888888888888888,\"#fdca26\"],[1.0,\"#f0f921\"]]}],\"heatmap\":[{\"type\":\"heatmap\",\"colorbar\":{\"outlinewidth\":0,\"ticks\":\"\"},\"colorscale\":[[0.0,\"#0d0887\"],[0.1111111111111111,\"#46039f\"],[0.2222222222222222,\"#7201a8\"],[0.3333333333333333,\"#9c179e\"],[0.4444444444444444,\"#bd3786\"],[0.5555555555555556,\"#d8576b\"],[0.6666666666666666,\"#ed7953\"],[0.7777777777777778,\"#fb9f3a\"],[0.8888888888888888,\"#fdca26\"],[1.0,\"#f0f921\"]]}],\"heatmapgl\":[{\"type\":\"heatmapgl\",\"colorbar\":{\"outlinewidth\":0,\"ticks\":\"\"},\"colorscale\":[[0.0,\"#0d0887\"],[0.1111111111111111,\"#46039f\"],[0.2222222222222222,\"#7201a8\"],[0.3333333333333333,\"#9c179e\"],[0.4444444444444444,\"#bd3786\"],[0.5555555555555556,\"#d8576b\"],[0.6666666666666666,\"#ed7953\"],[0.7777777777777778,\"#fb9f3a\"],[0.8888888888888888,\"#fdca26\"],[1.0,\"#f0f921\"]]}],\"contourcarpet\":[{\"type\":\"contourcarpet\",\"colorbar\":{\"outlinewidth\":0,\"ticks\":\"\"}}],\"contour\":[{\"type\":\"contour\",\"colorbar\":{\"outlinewidth\":0,\"ticks\":\"\"},\"colorscale\":[[0.0,\"#0d0887\"],[0.1111111111111111,\"#46039f\"],[0.2222222222222222,\"#7201a8\"],[0.3333333333333333,\"#9c179e\"],[0.4444444444444444,\"#bd3786\"],[0.5555555555555556,\"#d8576b\"],[0.6666666666666666,\"#ed7953\"],[0.7777777777777778,\"#fb9f3a\"],[0.8888888888888888,\"#fdca26\"],[1.0,\"#f0f921\"]]}],\"surface\":[{\"type\":\"surface\",\"colorbar\":{\"outlinewidth\":0,\"ticks\":\"\"},\"colorscale\":[[0.0,\"#0d0887\"],[0.1111111111111111,\"#46039f\"],[0.2222222222222222,\"#7201a8\"],[0.3333333333333333,\"#9c179e\"],[0.4444444444444444,\"#bd3786\"],[0.5555555555555556,\"#d8576b\"],[0.6666666666666666,\"#ed7953\"],[0.7777777777777778,\"#fb9f3a\"],[0.8888888888888888,\"#fdca26\"],[1.0,\"#f0f921\"]]}],\"mesh3d\":[{\"type\":\"mesh3d\",\"colorbar\":{\"outlinewidth\":0,\"ticks\":\"\"}}],\"scatter\":[{\"fillpattern\":{\"fillmode\":\"overlay\",\"size\":10,\"solidity\":0.2},\"type\":\"scatter\"}],\"parcoords\":[{\"type\":\"parcoords\",\"line\":{\"colorbar\":{\"outlinewidth\":0,\"ticks\":\"\"}}}],\"scatterpolargl\":[{\"type\":\"scatterpolargl\",\"marker\":{\"colorbar\":{\"outlinewidth\":0,\"ticks\":\"\"}}}],\"bar\":[{\"error_x\":{\"color\":\"#2a3f5f\"},\"error_y\":{\"color\":\"#2a3f5f\"},\"marker\":{\"line\":{\"color\":\"#E5ECF6\",\"width\":0.5},\"pattern\":{\"fillmode\":\"overlay\",\"size\":10,\"solidity\":0.2}},\"type\":\"bar\"}],\"scattergeo\":[{\"type\":\"scattergeo\",\"marker\":{\"colorbar\":{\"outlinewidth\":0,\"ticks\":\"\"}}}],\"scatterpolar\":[{\"type\":\"scatterpolar\",\"marker\":{\"colorbar\":{\"outlinewidth\":0,\"ticks\":\"\"}}}],\"histogram\":[{\"marker\":{\"pattern\":{\"fillmode\":\"overlay\",\"size\":10,\"solidity\":0.2}},\"type\":\"histogram\"}],\"scattergl\":[{\"type\":\"scattergl\",\"marker\":{\"colorbar\":{\"outlinewidth\":0,\"ticks\":\"\"}}}],\"scatter3d\":[{\"type\":\"scatter3d\",\"line\":{\"colorbar\":{\"outlinewidth\":0,\"ticks\":\"\"}},\"marker\":{\"colorbar\":{\"outlinewidth\":0,\"ticks\":\"\"}}}],\"scattermapbox\":[{\"type\":\"scattermapbox\",\"marker\":{\"colorbar\":{\"outlinewidth\":0,\"ticks\":\"\"}}}],\"scatterternary\":[{\"type\":\"scatterternary\",\"marker\":{\"colorbar\":{\"outlinewidth\":0,\"ticks\":\"\"}}}],\"scattercarpet\":[{\"type\":\"scattercarpet\",\"marker\":{\"colorbar\":{\"outlinewidth\":0,\"ticks\":\"\"}}}],\"carpet\":[{\"aaxis\":{\"endlinecolor\":\"#2a3f5f\",\"gridcolor\":\"white\",\"linecolor\":\"white\",\"minorgridcolor\":\"white\",\"startlinecolor\":\"#2a3f5f\"},\"baxis\":{\"endlinecolor\":\"#2a3f5f\",\"gridcolor\":\"white\",\"linecolor\":\"white\",\"minorgridcolor\":\"white\",\"startlinecolor\":\"#2a3f5f\"},\"type\":\"carpet\"}],\"table\":[{\"cells\":{\"fill\":{\"color\":\"#EBF0F8\"},\"line\":{\"color\":\"white\"}},\"header\":{\"fill\":{\"color\":\"#C8D4E3\"},\"line\":{\"color\":\"white\"}},\"type\":\"table\"}],\"barpolar\":[{\"marker\":{\"line\":{\"color\":\"#E5ECF6\",\"width\":0.5},\"pattern\":{\"fillmode\":\"overlay\",\"size\":10,\"solidity\":0.2}},\"type\":\"barpolar\"}],\"pie\":[{\"automargin\":true,\"type\":\"pie\"}]},\"layout\":{\"autotypenumbers\":\"strict\",\"colorway\":[\"#636efa\",\"#EF553B\",\"#00cc96\",\"#ab63fa\",\"#FFA15A\",\"#19d3f3\",\"#FF6692\",\"#B6E880\",\"#FF97FF\",\"#FECB52\"],\"font\":{\"color\":\"#2a3f5f\"},\"hovermode\":\"closest\",\"hoverlabel\":{\"align\":\"left\"},\"paper_bgcolor\":\"white\",\"plot_bgcolor\":\"#E5ECF6\",\"polar\":{\"bgcolor\":\"#E5ECF6\",\"angularaxis\":{\"gridcolor\":\"white\",\"linecolor\":\"white\",\"ticks\":\"\"},\"radialaxis\":{\"gridcolor\":\"white\",\"linecolor\":\"white\",\"ticks\":\"\"}},\"ternary\":{\"bgcolor\":\"#E5ECF6\",\"aaxis\":{\"gridcolor\":\"white\",\"linecolor\":\"white\",\"ticks\":\"\"},\"baxis\":{\"gridcolor\":\"white\",\"linecolor\":\"white\",\"ticks\":\"\"},\"caxis\":{\"gridcolor\":\"white\",\"linecolor\":\"white\",\"ticks\":\"\"}},\"coloraxis\":{\"colorbar\":{\"outlinewidth\":0,\"ticks\":\"\"}},\"colorscale\":{\"sequential\":[[0.0,\"#0d0887\"],[0.1111111111111111,\"#46039f\"],[0.2222222222222222,\"#7201a8\"],[0.3333333333333333,\"#9c179e\"],[0.4444444444444444,\"#bd3786\"],[0.5555555555555556,\"#d8576b\"],[0.6666666666666666,\"#ed7953\"],[0.7777777777777778,\"#fb9f3a\"],[0.8888888888888888,\"#fdca26\"],[1.0,\"#f0f921\"]],\"sequentialminus\":[[0.0,\"#0d0887\"],[0.1111111111111111,\"#46039f\"],[0.2222222222222222,\"#7201a8\"],[0.3333333333333333,\"#9c179e\"],[0.4444444444444444,\"#bd3786\"],[0.5555555555555556,\"#d8576b\"],[0.6666666666666666,\"#ed7953\"],[0.7777777777777778,\"#fb9f3a\"],[0.8888888888888888,\"#fdca26\"],[1.0,\"#f0f921\"]],\"diverging\":[[0,\"#8e0152\"],[0.1,\"#c51b7d\"],[0.2,\"#de77ae\"],[0.3,\"#f1b6da\"],[0.4,\"#fde0ef\"],[0.5,\"#f7f7f7\"],[0.6,\"#e6f5d0\"],[0.7,\"#b8e186\"],[0.8,\"#7fbc41\"],[0.9,\"#4d9221\"],[1,\"#276419\"]]},\"xaxis\":{\"gridcolor\":\"white\",\"linecolor\":\"white\",\"ticks\":\"\",\"title\":{\"standoff\":15},\"zerolinecolor\":\"white\",\"automargin\":true,\"zerolinewidth\":2},\"yaxis\":{\"gridcolor\":\"white\",\"linecolor\":\"white\",\"ticks\":\"\",\"title\":{\"standoff\":15},\"zerolinecolor\":\"white\",\"automargin\":true,\"zerolinewidth\":2},\"scene\":{\"xaxis\":{\"backgroundcolor\":\"#E5ECF6\",\"gridcolor\":\"white\",\"linecolor\":\"white\",\"showbackground\":true,\"ticks\":\"\",\"zerolinecolor\":\"white\",\"gridwidth\":2},\"yaxis\":{\"backgroundcolor\":\"#E5ECF6\",\"gridcolor\":\"white\",\"linecolor\":\"white\",\"showbackground\":true,\"ticks\":\"\",\"zerolinecolor\":\"white\",\"gridwidth\":2},\"zaxis\":{\"backgroundcolor\":\"#E5ECF6\",\"gridcolor\":\"white\",\"linecolor\":\"white\",\"showbackground\":true,\"ticks\":\"\",\"zerolinecolor\":\"white\",\"gridwidth\":2}},\"shapedefaults\":{\"line\":{\"color\":\"#2a3f5f\"}},\"annotationdefaults\":{\"arrowcolor\":\"#2a3f5f\",\"arrowhead\":0,\"arrowwidth\":1},\"geo\":{\"bgcolor\":\"white\",\"landcolor\":\"#E5ECF6\",\"subunitcolor\":\"white\",\"showland\":true,\"showlakes\":true,\"lakecolor\":\"white\"},\"title\":{\"x\":0.05},\"mapbox\":{\"style\":\"light\"}}},\"geo\":{\"showcountries\":true,\"countrycolor\":\"black\",\"showland\":true,\"landcolor\":\"white\",\"projection\":{\"scale\":2.5},\"showocean\":true,\"oceancolor\":\"lightblue\"},\"title\":{\"text\":\"Regions of Uzbekistan\"},\"annotations\":[{\"align\":\"left\",\"bgcolor\":\"white\",\"bordercolor\":\"black\",\"borderwidth\":1,\"opacity\":0.8,\"showarrow\":false,\"text\":\"\\u003cb\\u003eLegend:\\u003c\\u002fb\\u003e\\u003cbr\\u003e\\u003cspan style='color:blue'\\u003e\\u0421\\u0430\\u043c\\u0430\\u0440\\u049b\\u0430\\u043d\\u0434 \\u0432\\u0438\\u043b\\u043e\\u044f\\u0442\\u0438 = 201\\u003c\\u002fspan\\u003e\\u003cbr\\u003e\\u003cspan style='color:red'\\u003e\\u0422\\u043e\\u0448\\u043a\\u0435\\u043d\\u0442 \\u0432\\u0438\\u043b\\u043e\\u044f\\u0442\\u0438 = 120\\u003c\\u002fspan\\u003e\\u003cbr\\u003e\\u003cspan style='color:green'\\u003e\\u0411\\u0443\\u0445\\u043e\\u0440\\u043e \\u0432\\u0438\\u043b\\u043e\\u044f\\u0442\\u0438 = 200\\u003c\\u002fspan\\u003e\\u003cbr\\u003e\\u003cspan style='color:purple'\\u003e\\u049a\\u0430\\u0448\\u049b\\u0430\\u0434\\u0430\\u0440\\u0451 \\u0432\\u0438\\u043b\\u043e\\u044f\\u0442\\u0438 = 201\\u003c\\u002fspan\\u003e\\u003cbr\\u003e\\u003cspan style='color:orange'\\u003e\\u0421\\u0443\\u0440\\u0445\\u043e\\u043d\\u0434\\u0430\\u0440\\u0451 \\u0432\\u0438\\u043b\\u043e\\u044f\\u0442\\u0438 = 320\\u003c\\u002fspan\\u003e\\u003cbr\\u003e\\u003cspan style='color:cyan'\\u003e\\u0424\\u0430\\u0440\\u0493\\u043e\\u043d\\u0430 \\u0432\\u0438\\u043b\\u043e\\u044f\\u0442\\u0438 = 120\\u003c\\u002fspan\\u003e\\u003cbr\\u003e\\u003cspan style='color:brown'\\u003e\\u041d\\u0430\\u043c\\u0430\\u043d\\u0433\\u0430\\u043d  = 80\\u003c\\u002fspan\\u003e\\u003cbr\\u003e\\u003cspan style='color:pink'\\u003e\\u0410\\u043d\\u0434\\u0438\\u0436\\u043e\\u043d \\u0432\\u0438\\u043b\\u043e\\u044f\\u0442\\u0438 = 240\\u003c\\u002fspan\\u003e\\u003cbr\\u003e\\u003cspan style='color:gray'\\u003e\\u041d\\u0430\\u0432\\u043e\\u0438\\u0439 \\u0432\\u0438\\u043b\\u043e\\u044f\\u0442\\u0438 = 124\\u003c\\u002fspan\\u003e\\u003cbr\\u003e\\u003cspan style='color:olive'\\u003e\\u0416\\u0438\\u0437\\u0437\\u0430\\u0445 \\u0432\\u0438\\u043b\\u043e\\u044f\\u0442\\u0438 = 127\\u003c\\u002fspan\\u003e\\u003cbr\\u003e\\u003cspan style='color:navy'\\u003e\\u0425\\u043e\\u0440\\u0430\\u0437\\u043c \\u0432\\u0438\\u043b\\u043e\\u044f\\u0442\\u0438 = 161\\u003c\\u002fspan\\u003e\\u003cbr\\u003e\\u003cspan style='color:teal'\\u003e\\u049a\\u043e\\u0440\\u0430\\u049b\\u0430\\u043b\\u043f\\u043e\\u0493\\u0438\\u0441\\u0442\\u043e\\u043d \\u0420\\u0435\\u0441\\u043f\\u0443\\u0431\\u043b\\u0438\\u043a\\u0430\\u0441\\u0438 = 322\\u003c\\u002fspan\\u003e\",\"x\":1.05,\"xref\":\"paper\",\"y\":0.95,\"yref\":\"paper\"}]},                        {\"responsive\": true}                    ).then(function(){\n",
              "                            \n",
              "var gd = document.getElementById('8f68cb80-89d0-4d73-931d-d871ef25cf3b');\n",
              "var x = new MutationObserver(function (mutations, observer) {{\n",
              "        var display = window.getComputedStyle(gd).display;\n",
              "        if (!display || display === 'none') {{\n",
              "            console.log([gd, 'removed!']);\n",
              "            Plotly.purge(gd);\n",
              "            observer.disconnect();\n",
              "        }}\n",
              "}});\n",
              "\n",
              "// Listen for the removal of the full notebook cells\n",
              "var notebookContainer = gd.closest('#notebook-container');\n",
              "if (notebookContainer) {{\n",
              "    x.observe(notebookContainer, {childList: true});\n",
              "}}\n",
              "\n",
              "// Listen for the clearing of the current output cell\n",
              "var outputEl = gd.closest('.output');\n",
              "if (outputEl) {{\n",
              "    x.observe(outputEl, {childList: true});\n",
              "}}\n",
              "\n",
              "                        })                };                            </script>        </div>\n",
              "</body>\n",
              "</html>"
            ]
          },
          "metadata": {}
        }
      ]
    },
    {
      "cell_type": "code",
      "source": [],
      "metadata": {
        "id": "j4kOsKG3xeyw"
      },
      "execution_count": null,
      "outputs": []
    }
  ]
}